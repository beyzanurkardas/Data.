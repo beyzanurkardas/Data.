{
 "cells": [
  {
   "cell_type": "markdown",
   "id": "0d020914",
   "metadata": {},
   "source": [
    "# **DATA SCIENCE**"
   ]
  },
  {
   "cell_type": "markdown",
   "id": "990c30b4",
   "metadata": {},
   "source": [
    "# _Data Science Languages_"
   ]
  },
  {
   "cell_type": "code",
   "execution_count": 7,
   "id": "aab21bb6",
   "metadata": {},
   "outputs": [
    {
     "data": {
      "text/plain": [
       "['Python',\n",
       " 'R',\n",
       " 'SQL',\n",
       " 'Java',\n",
       " 'JavaScript',\n",
       " 'C/C++',\n",
       " 'Julia',\n",
       " 'Ruby',\n",
       " 'SAS',\n",
       " 'MATLAB',\n",
       " 'Scala',\n",
       " 'Perl',\n",
       " 'Swift',\n",
       " 'Go',\n",
       " 'Lua',\n",
       " 'Kotlin']"
      ]
     },
     "execution_count": 7,
     "metadata": {},
     "output_type": "execute_result"
    }
   ],
   "source": [
    "language = [\"Python\", \"R\", \"SQL\", \"Java\", \"JavaScript\", \"C/C++\", \"Julia\", \"Ruby\", \"SAS\", \"MATLAB\", \"Scala\", \"Perl\", \"Swift\", \"Go\", \"Lua\", \"Kotlin\"]\n",
    "list (language)"
   ]
  },
  {
   "cell_type": "code",
   "execution_count": 6,
   "id": "3bc08f7c",
   "metadata": {},
   "outputs": [
    {
     "name": "stdout",
     "output_type": "stream",
     "text": [
      "Python\n"
     ]
    }
   ],
   "source": [
    "language = [\"Python\", \"R\", \"SQL\", \"Java\", \"JavaScript\", \"C/C++\", \"Julia\", \"Ruby\", \"SAS\", \"MATLAB\", \"Scala\", \"Perl\", \"Swift\", \"Go\", \"Lua\", \"Kotlin\"]\n",
    "print (language[0])"
   ]
  },
  {
   "cell_type": "code",
   "execution_count": 7,
   "id": "b24ae1de",
   "metadata": {},
   "outputs": [
    {
     "name": "stdout",
     "output_type": "stream",
     "text": [
      "R\n"
     ]
    }
   ],
   "source": [
    "language = [\"Python\", \"R\", \"SQL\", \"Java\", \"JavaScript\", \"C/C++\", \"Julia\", \"Ruby\", \"SAS\", \"MATLAB\", \"Scala\", \"Perl\", \"Swift\", \"Go\", \"Lua\", \"Kotlin\"]\n",
    "print (language[1])"
   ]
  },
  {
   "cell_type": "code",
   "execution_count": 8,
   "id": "20738577",
   "metadata": {},
   "outputs": [
    {
     "name": "stdout",
     "output_type": "stream",
     "text": [
      "SQL\n"
     ]
    }
   ],
   "source": [
    "language = [\"Python\", \"R\", \"SQL\", \"Java\", \"JavaScript\", \"C/C++\", \"Julia\", \"Ruby\", \"SAS\", \"MATLAB\", \"Scala\", \"Perl\", \"Swift\", \"Go\", \"Lua\", \"Kotlin\"]\n",
    "print (language[2])"
   ]
  },
  {
   "cell_type": "code",
   "execution_count": 9,
   "id": "982a454c",
   "metadata": {},
   "outputs": [
    {
     "name": "stdout",
     "output_type": "stream",
     "text": [
      "Java\n"
     ]
    }
   ],
   "source": [
    "language = [\"Python\", \"R\", \"SQL\", \"Java\", \"JavaScript\", \"C/C++\", \"Julia\", \"Ruby\", \"SAS\", \"MATLAB\", \"Scala\", \"Perl\", \"Swift\", \"Go\", \"Lua\", \"Kotlin\"]\n",
    "print (language[3])"
   ]
  },
  {
   "cell_type": "code",
   "execution_count": 10,
   "id": "f3ce2b6d",
   "metadata": {},
   "outputs": [
    {
     "name": "stdout",
     "output_type": "stream",
     "text": [
      "JavaScript\n"
     ]
    }
   ],
   "source": [
    "language = [\"Python\", \"R\", \"SQL\", \"Java\", \"JavaScript\", \"C/C++\", \"Julia\", \"Ruby\", \"SAS\", \"MATLAB\", \"Scala\", \"Perl\", \"Swift\", \"Go\", \"Lua\", \"Kotlin\"]\n",
    "print (language[4])"
   ]
  },
  {
   "cell_type": "code",
   "execution_count": 11,
   "id": "cde4b849",
   "metadata": {},
   "outputs": [
    {
     "name": "stdout",
     "output_type": "stream",
     "text": [
      "C/C++\n"
     ]
    }
   ],
   "source": [
    "language = [\"Python\", \"R\", \"SQL\", \"Java\", \"JavaScript\", \"C/C++\", \"Julia\", \"Ruby\", \"SAS\", \"MATLAB\", \"Scala\", \"Perl\", \"Swift\", \"Go\", \"Lua\", \"Kotlin\"]\n",
    "print (language[5])"
   ]
  },
  {
   "cell_type": "code",
   "execution_count": 12,
   "id": "82706a5a",
   "metadata": {},
   "outputs": [
    {
     "name": "stdout",
     "output_type": "stream",
     "text": [
      "Julia\n"
     ]
    }
   ],
   "source": [
    "language = [\"Python\", \"R\", \"SQL\", \"Java\", \"JavaScript\", \"C/C++\", \"Julia\", \"Ruby\", \"SAS\", \"MATLAB\", \"Scala\", \"Perl\", \"Swift\", \"Go\", \"Lua\", \"Kotlin\"]\n",
    "print (language[6])"
   ]
  },
  {
   "cell_type": "code",
   "execution_count": 13,
   "id": "93b83465",
   "metadata": {},
   "outputs": [
    {
     "name": "stdout",
     "output_type": "stream",
     "text": [
      "Ruby\n"
     ]
    }
   ],
   "source": [
    "language = [\"Python\", \"R\", \"SQL\", \"Java\", \"JavaScript\", \"C/C++\", \"Julia\", \"Ruby\", \"SAS\", \"MATLAB\", \"Scala\", \"Perl\", \"Swift\", \"Go\", \"Lua\", \"Kotlin\"]\n",
    "print (language[7])"
   ]
  },
  {
   "cell_type": "code",
   "execution_count": 14,
   "id": "7e3d4a94",
   "metadata": {},
   "outputs": [
    {
     "name": "stdout",
     "output_type": "stream",
     "text": [
      "SAS\n"
     ]
    }
   ],
   "source": [
    "language = [\"Python\", \"R\", \"SQL\", \"Java\", \"JavaScript\", \"C/C++\", \"Julia\", \"Ruby\", \"SAS\", \"MATLAB\", \"Scala\", \"Perl\", \"Swift\", \"Go\", \"Lua\", \"Kotlin\"]\n",
    "print (language[8])"
   ]
  },
  {
   "cell_type": "code",
   "execution_count": 15,
   "id": "78676197",
   "metadata": {},
   "outputs": [
    {
     "name": "stdout",
     "output_type": "stream",
     "text": [
      "MATLAB\n"
     ]
    }
   ],
   "source": [
    "language = [\"Python\", \"R\", \"SQL\", \"Java\", \"JavaScript\", \"C/C++\", \"Julia\", \"Ruby\", \"SAS\", \"MATLAB\", \"Scala\", \"Perl\", \"Swift\", \"Go\", \"Lua\", \"Kotlin\"]\n",
    "print (language[9])"
   ]
  },
  {
   "cell_type": "code",
   "execution_count": 16,
   "id": "3c2cc838",
   "metadata": {},
   "outputs": [
    {
     "name": "stdout",
     "output_type": "stream",
     "text": [
      "Scala\n"
     ]
    }
   ],
   "source": [
    "language = [\"Python\", \"R\", \"SQL\", \"Java\", \"JavaScript\", \"C/C++\", \"Julia\", \"Ruby\", \"SAS\", \"MATLAB\", \"Scala\", \"Perl\", \"Swift\", \"Go\", \"Lua\", \"Kotlin\"]\n",
    "print (language[10])"
   ]
  },
  {
   "cell_type": "code",
   "execution_count": 17,
   "id": "65655635",
   "metadata": {},
   "outputs": [
    {
     "name": "stdout",
     "output_type": "stream",
     "text": [
      "Perl\n"
     ]
    }
   ],
   "source": [
    "language = [\"Python\", \"R\", \"SQL\", \"Java\", \"JavaScript\", \"C/C++\", \"Julia\", \"Ruby\", \"SAS\", \"MATLAB\", \"Scala\", \"Perl\", \"Swift\", \"Go\", \"Lua\", \"Kotlin\"]\n",
    "print (language[11])"
   ]
  },
  {
   "cell_type": "code",
   "execution_count": 18,
   "id": "917908cb",
   "metadata": {},
   "outputs": [
    {
     "name": "stdout",
     "output_type": "stream",
     "text": [
      "Swift\n"
     ]
    }
   ],
   "source": [
    "language = [\"Python\", \"R\", \"SQL\", \"Java\", \"JavaScript\", \"C/C++\", \"Julia\", \"Ruby\", \"SAS\", \"MATLAB\", \"Scala\", \"Perl\", \"Swift\", \"Go\", \"Lua\", \"Kotlin\"]\n",
    "print (language[12])"
   ]
  },
  {
   "cell_type": "code",
   "execution_count": 19,
   "id": "16f987be",
   "metadata": {},
   "outputs": [
    {
     "name": "stdout",
     "output_type": "stream",
     "text": [
      "Go\n"
     ]
    }
   ],
   "source": [
    "language = [\"Python\", \"R\", \"SQL\", \"Java\", \"JavaScript\", \"C/C++\", \"Julia\", \"Ruby\", \"SAS\", \"MATLAB\", \"Scala\", \"Perl\", \"Swift\", \"Go\", \"Lua\", \"Kotlin\"]\n",
    "print (language[13])"
   ]
  },
  {
   "cell_type": "code",
   "execution_count": 20,
   "id": "06b80cec",
   "metadata": {},
   "outputs": [
    {
     "name": "stdout",
     "output_type": "stream",
     "text": [
      "Lua\n"
     ]
    }
   ],
   "source": [
    "language = [\"Python\", \"R\", \"SQL\", \"Java\", \"JavaScript\", \"C/C++\", \"Julia\", \"Ruby\", \"SAS\", \"MATLAB\", \"Scala\", \"Perl\", \"Swift\", \"Go\", \"Lua\", \"Kotlin\"]\n",
    "print (language[14])"
   ]
  },
  {
   "cell_type": "code",
   "execution_count": 21,
   "id": "d04dc503",
   "metadata": {},
   "outputs": [
    {
     "name": "stdout",
     "output_type": "stream",
     "text": [
      "Kotlin\n"
     ]
    }
   ],
   "source": [
    "language = [\"Python\", \"R\", \"SQL\", \"Java\", \"JavaScript\", \"C/C++\", \"Julia\", \"Ruby\", \"SAS\", \"MATLAB\", \"Scala\", \"Perl\", \"Swift\", \"Go\", \"Lua\", \"Kotlin\"]\n",
    "print (language[15])"
   ]
  },
  {
   "cell_type": "markdown",
   "id": "46f4eb67",
   "metadata": {},
   "source": [
    "#_Data Science Library_"
   ]
  },
  {
   "cell_type": "code",
   "execution_count": 24,
   "id": "7828261e",
   "metadata": {},
   "outputs": [
    {
     "data": {
      "text/plain": [
       "['NumPy',\n",
       " 'Keras',\n",
       " 'Pandas',\n",
       " 'PyTorch',\n",
       " 'SciPy',\n",
       " 'Scikit-Learn',\n",
       " 'TensorFlow',\n",
       " 'Matplotlib',\n",
       " 'Seaborn',\n",
       " 'Theano',\n",
       " 'OpenCV',\n",
       " 'Mahotas',\n",
       " 'SimpleITK',\n",
       " 'Pillow',\n",
       " 'Requests',\n",
       " 'Beautiful Soup',\n",
       " 'Selenium',\n",
       " 'ScraPy',\n",
       " 'PyTest',\n",
       " 'PyUnit']"
      ]
     },
     "execution_count": 24,
     "metadata": {},
     "output_type": "execute_result"
    }
   ],
   "source": [
    "library = [\"NumPy\",\n",
    "\"Keras\",\n",
    "\"Pandas\",\n",
    "\"PyTorch\",\n",
    "\"SciPy\",\n",
    "\"Scikit-Learn\",\n",
    "\"TensorFlow\",\n",
    "\"Matplotlib\",\n",
    "\"Seaborn\",\n",
    "\"Theano\",\n",
    "\"OpenCV\",\n",
    "\"Mahotas\",\n",
    "\"SimpleITK\",\n",
    "\"Pillow\",\n",
    "\"Requests\",\n",
    "\"Beautiful Soup\",\n",
    "\"Selenium\",\n",
    "\"ScraPy\",\n",
    "\"PyTest\", \"PyUnit\"]\n",
    "list (library)"
   ]
  },
  {
   "cell_type": "markdown",
   "id": "f8c01dfa",
   "metadata": {},
   "source": [
    "#_arithmetic expression_"
   ]
  },
  {
   "cell_type": "markdown",
   "id": "c2280028",
   "metadata": {},
   "source": [
    "X = $$\\sum_{i=1}^{N}$$ "
   ]
  },
  {
   "cell_type": "markdown",
   "id": "702774ec",
   "metadata": {},
   "source": [
    "$$(Arithmetic) = \\frac{ X }{ N }$$"
   ]
  },
  {
   "cell_type": "code",
   "execution_count": 58,
   "id": "2d7fba33",
   "metadata": {},
   "outputs": [
    {
     "name": "stdout",
     "output_type": "stream",
     "text": [
      "13\n"
     ]
    }
   ],
   "source": [
    "a = 5\n",
    "b= 8\n",
    "print (a+b)"
   ]
  },
  {
   "cell_type": "code",
   "execution_count": 60,
   "id": "816601ac",
   "metadata": {},
   "outputs": [
    {
     "name": "stdout",
     "output_type": "stream",
     "text": [
      "232\n"
     ]
    }
   ],
   "source": [
    "a = 29\n",
    "b = 8\n",
    "print (a*b)"
   ]
  },
  {
   "cell_type": "markdown",
   "id": "17ff0b8d",
   "metadata": {},
   "source": [
    "#_Minutes To Hours Example_"
   ]
  },
  {
   "cell_type": "code",
   "execution_count": 78,
   "id": "01f88c14",
   "metadata": {},
   "outputs": [
    {
     "name": "stdout",
     "output_type": "stream",
     "text": [
      "6:14\n"
     ]
    }
   ],
   "source": [
    "total_minutes = 374\n",
    "\n",
    "hours = total_minutes // 60\n",
    "\n",
    "minutes = total_minutes % 60\n",
    "\n",
    "time_string = \"{}:{}\".format(hours, minutes)\n",
    "\n",
    "print(time_string)"
   ]
  },
  {
   "cell_type": "markdown",
   "id": "ae6ed4a2",
   "metadata": {},
   "source": [
    "# List Objectives"
   ]
  },
  {
   "cell_type": "code",
   "execution_count": 5,
   "id": "cacce51f",
   "metadata": {},
   "outputs": [],
   "source": [
    "fruits = ('banana', 'kiwi', 'apple')"
   ]
  },
  {
   "cell_type": "code",
   "execution_count": 6,
   "id": "0e5f3c43",
   "metadata": {},
   "outputs": [
    {
     "data": {
      "text/plain": [
       "['banana', 'kiwi', 'apple']"
      ]
     },
     "execution_count": 6,
     "metadata": {},
     "output_type": "execute_result"
    }
   ],
   "source": [
    "list (fruits)"
   ]
  },
  {
   "cell_type": "markdown",
   "id": "fa504c54",
   "metadata": {},
   "source": [
    "# Writer Is Beyzanur Kardas"
   ]
  },
  {
   "cell_type": "code",
   "execution_count": null,
   "id": "63c7a236",
   "metadata": {},
   "outputs": [],
   "source": []
  }
 ],
 "metadata": {
  "kernelspec": {
   "display_name": "Python 3 (ipykernel)",
   "language": "python",
   "name": "python3"
  },
  "language_info": {
   "codemirror_mode": {
    "name": "ipython",
    "version": 3
   },
   "file_extension": ".py",
   "mimetype": "text/x-python",
   "name": "python",
   "nbconvert_exporter": "python",
   "pygments_lexer": "ipython3",
   "version": "3.10.9"
  }
 },
 "nbformat": 4,
 "nbformat_minor": 5
}
